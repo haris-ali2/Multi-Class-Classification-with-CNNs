{
  "nbformat": 4,
  "nbformat_minor": 0,
  "metadata": {
    "colab": {
      "name": "Fashion_MNIST.ipynb",
      "provenance": [],
      "collapsed_sections": [
        "4fBNvzN-oDuD",
        "rtNDBJGKoODh"
      ],
      "include_colab_link": true
    },
    "kernelspec": {
      "name": "python3",
      "display_name": "Python 3"
    },
    "language_info": {
      "name": "python"
    },
    "accelerator": "GPU"
  },
  "cells": [
    {
      "cell_type": "markdown",
      "metadata": {
        "id": "view-in-github",
        "colab_type": "text"
      },
      "source": [
        "<a href=\"https://colab.research.google.com/github/haris-ali2/Multi-Class-Classification-with-CNNs/blob/main/Fashion_MNIST.ipynb\" target=\"_parent\"><img src=\"https://colab.research.google.com/assets/colab-badge.svg\" alt=\"Open In Colab\"/></a>"
      ]
    },
    {
      "cell_type": "markdown",
      "metadata": {
        "id": "4fBNvzN-oDuD"
      },
      "source": [
        "## **IMPORTING LIBRARIES**"
      ]
    },
    {
      "cell_type": "code",
      "metadata": {
        "id": "0ftR78Nd6rOL"
      },
      "source": [
        "import numpy as np\n",
        "import tensorflow as tf\n",
        "\n",
        "from tensorflow.keras.models import Sequential\n",
        "from tensorflow.keras.layers import Activation, Dense, Flatten, ZeroPadding2D, Conv2D, MaxPool2D, Dropout\n",
        "from tensorflow.keras.optimizers import Adam, SGD\n",
        "from tensorflow.keras.utils import to_categorical\n",
        "\n",
        "from sklearn.model_selection import train_test_split\n",
        "from sklearn.metrics import confusion_matrix, plot_confusion_matrix, roc_curve, auc\n",
        "\n",
        "import matplotlib.pyplot as plt\n",
        "\n"
      ],
      "execution_count": null,
      "outputs": []
    },
    {
      "cell_type": "markdown",
      "metadata": {
        "id": "rtNDBJGKoODh"
      },
      "source": [
        "## **A: Loading, Showing and Preprocessing the Data**"
      ]
    },
    {
      "cell_type": "code",
      "metadata": {
        "id": "LXMZQSLdoNc6",
        "colab": {
          "base_uri": "https://localhost:8080/"
        },
        "outputId": "4016fb85-e877-402d-fcef-3485534f5a83"
      },
      "source": [
        "#importing the fashion MNIST data\n",
        "\n",
        "(x_train, y_train), (x_test, y_test) = tf.keras.datasets.fashion_mnist.load_data()"
      ],
      "execution_count": null,
      "outputs": [
        {
          "output_type": "stream",
          "text": [
            "Downloading data from https://storage.googleapis.com/tensorflow/tf-keras-datasets/train-labels-idx1-ubyte.gz\n",
            "32768/29515 [=================================] - 0s 0us/step\n",
            "Downloading data from https://storage.googleapis.com/tensorflow/tf-keras-datasets/train-images-idx3-ubyte.gz\n",
            "26427392/26421880 [==============================] - 0s 0us/step\n",
            "Downloading data from https://storage.googleapis.com/tensorflow/tf-keras-datasets/t10k-labels-idx1-ubyte.gz\n",
            "8192/5148 [===============================================] - 0s 0us/step\n",
            "Downloading data from https://storage.googleapis.com/tensorflow/tf-keras-datasets/t10k-images-idx3-ubyte.gz\n",
            "4423680/4422102 [==============================] - 0s 0us/step\n"
          ],
          "name": "stdout"
        }
      ]
    },
    {
      "cell_type": "code",
      "metadata": {
        "colab": {
          "base_uri": "https://localhost:8080/"
        },
        "id": "AKpMUsZCICbz",
        "outputId": "469cfa11-1d85-4b76-8b16-c6e318b723ec"
      },
      "source": [
        "#Checking the input shape\n",
        "\n",
        "x_train.shape"
      ],
      "execution_count": null,
      "outputs": [
        {
          "output_type": "execute_result",
          "data": {
            "text/plain": [
              "(60000, 28, 28)"
            ]
          },
          "metadata": {
            "tags": []
          },
          "execution_count": 3
        }
      ]
    },
    {
      "cell_type": "code",
      "metadata": {
        "id": "LBUe3v-TMIza"
      },
      "source": [
        "#Reshaping into 4D because KERAS expexts 4D input\n",
        "\n",
        "x_train = x_train.reshape((x_train.shape[0], 28, 28, 1))\n",
        "x_test = x_test.reshape((x_test.shape[0], 28, 28, 1))"
      ],
      "execution_count": null,
      "outputs": []
    },
    {
      "cell_type": "code",
      "metadata": {
        "colab": {
          "base_uri": "https://localhost:8080/"
        },
        "id": "__D-tC0IMJmP",
        "outputId": "e2918057-17b8-4427-f0cd-03c0f0d48c94"
      },
      "source": [
        "x_train.shape"
      ],
      "execution_count": null,
      "outputs": [
        {
          "output_type": "execute_result",
          "data": {
            "text/plain": [
              "(60000, 28, 28, 1)"
            ]
          },
          "metadata": {
            "tags": []
          },
          "execution_count": 5
        }
      ]
    },
    {
      "cell_type": "code",
      "metadata": {
        "colab": {
          "base_uri": "https://localhost:8080/"
        },
        "id": "d2P7zlleNxkD",
        "outputId": "454f1fe0-67a3-4830-86e3-8d9b81d6fa81"
      },
      "source": [
        "# convert from integers to floats for KERAS\n",
        "\n",
        "x_train = x_train.astype('float32')\n",
        "x_test = x_test.astype('float32')\n",
        "\n",
        "#Convert y datasets into one hot vectors' matrix representation\n",
        "y_train1 = to_categorical(y_train)\n",
        "y_test1 = to_categorical(y_test)\n",
        "\n",
        "y_test1.shape"
      ],
      "execution_count": null,
      "outputs": [
        {
          "output_type": "execute_result",
          "data": {
            "text/plain": [
              "(10000, 10)"
            ]
          },
          "metadata": {
            "tags": []
          },
          "execution_count": 6
        }
      ]
    },
    {
      "cell_type": "code",
      "metadata": {
        "id": "yVspGTb3McVd"
      },
      "source": [
        "#exracting the validation data which is 20% of the training data\n",
        "x_train1, val_train, y_train1, val_test = train_test_split(x_train, y_train1, test_size = 0.2)"
      ],
      "execution_count": null,
      "outputs": []
    },
    {
      "cell_type": "markdown",
      "metadata": {
        "id": "O_j_gXOD_bEp"
      },
      "source": [
        "**Showing some examples from training set**\n",
        "\n",
        "---\n",
        "\n"
      ]
    },
    {
      "cell_type": "code",
      "metadata": {
        "colab": {
          "base_uri": "https://localhost:8080/"
        },
        "id": "w6wL4RRm_Y_6",
        "outputId": "5c7c41e9-ef9e-4986-a2f2-db6fc6a13230"
      },
      "source": [
        "#plotting some examples from the dataset\n",
        "\n",
        "_, ax = plt.subplots(3,3, figsize = (10,10))\n",
        "for i in range(3):\n",
        "  for j in range(3):\n",
        "    ax[i,j].imshow(x_train[j+i+12000].reshape((28,28)), cmap = 'Greys')\n",
        "plt.show()"
      ],
      "execution_count": null,
      "outputs": [
        {
          "output_type": "display_data",
          "data": {
            "image/png": "[encoded data removed]",
            "text/plain": [
              "<Figure size 720x720 with 9 Axes>"
            ]
          },
          "metadata": {
            "tags": [],
            "needs_background": "light"
          }
        }
      ]
    },
    {
      "cell_type": "markdown",
      "metadata": {
        "id": "202Hb8c94VHu"
      },
      "source": [
        "## **B & C: CNN with learning rate 0.01 (softmax with MSE)**"
      ]
    },
    {
      "cell_type": "markdown",
      "metadata": {
        "id": "p_Sr35DIrAt0"
      },
      "source": [
        "### Creating the model"
      ]
    },
    {
      "cell_type": "code",
      "metadata": {
        "id": "eXvEcYzT6a_j"
      },
      "source": [
        "#defining the model\n",
        "\n",
        "cnn_model = Sequential([\n",
        "                        Conv2D(filters = 8, strides = (2,2), kernel_size = 2, activation = 'relu'),\n",
        "                        #(14x14x8)\n",
        "                        MaxPool2D(pool_size = 2, strides = (1,1), padding = 'same'),\n",
        "                        #(14x14x8)\n",
        "                        ZeroPadding2D(padding = (1,1)),\n",
        "                        Conv2D(filters = 32, kernel_size = 2, strides = (2,2), activation = 'relu'),\n",
        "                        #(8x8x32)\n",
        "                        Conv2D(filters = 64, kernel_size = 2, strides = (2,2), activation = 'relu'),\n",
        "                        #(4x4x64)\n",
        "                        Conv2D(filters = 128, kernel_size = 2, strides = (2,2), activation = 'relu'),\n",
        "                        #(2x2x128)\n",
        "                        Flatten(),\n",
        "                        Dense(512, activation = 'relu'),\n",
        "                        Dense(128, activation = 'relu'),\n",
        "                        Dense(10, activation = 'softmax')\n",
        "                      ])"
      ],
      "execution_count": null,
      "outputs": []
    },
    {
      "cell_type": "code",
      "metadata": {
        "id": "osblHe4DLTQo"
      },
      "source": [
        "#compiling the model\n",
        "cnn_model.compile(\n",
        "                  loss = 'mean_squared_error',\n",
        "                  optimizer = SGD(learning_rate = 0.01),\n",
        "                  metrics = ['AUC']\n",
        "                 )"
      ],
      "execution_count": null,
      "outputs": []
    },
    {
      "cell_type": "code",
      "metadata": {
        "colab": {
          "base_uri": "https://localhost:8080/"
        },
        "id": "iSGyxE7bNqHM",
        "outputId": "fecb67f7-d0ae-4f78-c19f-2c1a02609b14"
      },
      "source": [
        "#training the model\n",
        "history = cnn_model.fit(\n",
        "              x_train1, y_train1, batch_size = 512, epochs = 50, verbose = 1,\n",
        "              validation_data = (val_train, val_test), shuffle = True\n",
        "             )"
      ],
      "execution_count": null,
      "outputs": [
        {
          "output_type": "stream",
          "text": [
            "Epoch 1/50\n",
            "94/94 [==============================] - 32s 26ms/step - loss: 0.0892 - auc: 0.6418 - val_loss: 0.0739 - val_auc: 0.7125\n",
            "Epoch 2/50\n",
            "94/94 [==============================] - 2s 21ms/step - loss: 0.0695 - auc: 0.7312 - val_loss: 0.0673 - val_auc: 0.7414\n",
            "Epoch 3/50\n",
            "94/94 [==============================] - 2s 20ms/step - loss: 0.0645 - auc: 0.7735 - val_loss: 0.0606 - val_auc: 0.8032\n",
            "Epoch 4/50\n",
            "94/94 [==============================] - 2s 20ms/step - loss: 0.0560 - auc: 0.8262 - val_loss: 0.0549 - val_auc: 0.8330\n",
            "Epoch 5/50\n",
            "94/94 [==============================] - 2s 21ms/step - loss: 0.0517 - auc: 0.8566 - val_loss: 0.0500 - val_auc: 0.8767\n",
            "Epoch 6/50\n",
            "94/94 [==============================] - 2s 20ms/step - loss: 0.0470 - auc: 0.8875 - val_loss: 0.0456 - val_auc: 0.8929\n",
            "Epoch 7/50\n",
            "94/94 [==============================] - 2s 20ms/step - loss: 0.0436 - auc: 0.8991 - val_loss: 0.0427 - val_auc: 0.9014\n",
            "Epoch 8/50\n",
            "94/94 [==============================] - 2s 20ms/step - loss: 0.0414 - auc: 0.9060 - val_loss: 0.0411 - val_auc: 0.9079\n",
            "Epoch 9/50\n",
            "94/94 [==============================] - 2s 21ms/step - loss: 0.0398 - auc: 0.9146 - val_loss: 0.0394 - val_auc: 0.9271\n",
            "Epoch 10/50\n",
            "94/94 [==============================] - 2s 21ms/step - loss: 0.0348 - auc: 0.9615 - val_loss: 0.0319 - val_auc: 0.9722\n",
            "Epoch 11/50\n",
            "94/94 [==============================] - 2s 20ms/step - loss: 0.0308 - auc: 0.9741 - val_loss: 0.0301 - val_auc: 0.9758\n",
            "Epoch 12/50\n",
            "94/94 [==============================] - 2s 20ms/step - loss: 0.0294 - auc: 0.9765 - val_loss: 0.0298 - val_auc: 0.9772\n",
            "Epoch 13/50\n",
            "94/94 [==============================] - 2s 21ms/step - loss: 0.0287 - auc: 0.9776 - val_loss: 0.0288 - val_auc: 0.9781\n",
            "Epoch 14/50\n",
            "94/94 [==============================] - 2s 21ms/step - loss: 0.0280 - auc: 0.9787 - val_loss: 0.0287 - val_auc: 0.9787\n",
            "Epoch 15/50\n",
            "94/94 [==============================] - 2s 21ms/step - loss: 0.0273 - auc: 0.9796 - val_loss: 0.0276 - val_auc: 0.9796\n",
            "Epoch 16/50\n",
            "94/94 [==============================] - 2s 20ms/step - loss: 0.0269 - auc: 0.9800 - val_loss: 0.0271 - val_auc: 0.9806\n",
            "Epoch 17/50\n",
            "94/94 [==============================] - 2s 20ms/step - loss: 0.0266 - auc: 0.9803 - val_loss: 0.0264 - val_auc: 0.9812\n",
            "Epoch 18/50\n",
            "94/94 [==============================] - 2s 20ms/step - loss: 0.0261 - auc: 0.9809 - val_loss: 0.0266 - val_auc: 0.9806\n",
            "Epoch 19/50\n",
            "94/94 [==============================] - 2s 20ms/step - loss: 0.0258 - auc: 0.9814 - val_loss: 0.0270 - val_auc: 0.9802\n",
            "Epoch 20/50\n",
            "94/94 [==============================] - 2s 21ms/step - loss: 0.0255 - auc: 0.9817 - val_loss: 0.0254 - val_auc: 0.9824\n",
            "Epoch 21/50\n",
            "94/94 [==============================] - 2s 21ms/step - loss: 0.0251 - auc: 0.9821 - val_loss: 0.0254 - val_auc: 0.9820\n",
            "Epoch 22/50\n",
            "94/94 [==============================] - 2s 20ms/step - loss: 0.0248 - auc: 0.9825 - val_loss: 0.0254 - val_auc: 0.9824\n",
            "Epoch 23/50\n",
            "94/94 [==============================] - 2s 20ms/step - loss: 0.0247 - auc: 0.9825 - val_loss: 0.0248 - val_auc: 0.9828\n",
            "Epoch 24/50\n",
            "94/94 [==============================] - 2s 20ms/step - loss: 0.0244 - auc: 0.9829 - val_loss: 0.0258 - val_auc: 0.9818\n",
            "Epoch 25/50\n",
            "94/94 [==============================] - 2s 21ms/step - loss: 0.0242 - auc: 0.9829 - val_loss: 0.0250 - val_auc: 0.9823\n",
            "Epoch 26/50\n",
            "94/94 [==============================] - 2s 23ms/step - loss: 0.0239 - auc: 0.9834 - val_loss: 0.0246 - val_auc: 0.9826\n",
            "Epoch 27/50\n",
            "94/94 [==============================] - 2s 23ms/step - loss: 0.0237 - auc: 0.9835 - val_loss: 0.0249 - val_auc: 0.9820\n",
            "Epoch 28/50\n",
            "94/94 [==============================] - 2s 21ms/step - loss: 0.0236 - auc: 0.9835 - val_loss: 0.0240 - val_auc: 0.9834\n",
            "Epoch 29/50\n",
            "94/94 [==============================] - 2s 21ms/step - loss: 0.0233 - auc: 0.9840 - val_loss: 0.0237 - val_auc: 0.9838\n",
            "Epoch 30/50\n",
            "94/94 [==============================] - 2s 21ms/step - loss: 0.0232 - auc: 0.9842 - val_loss: 0.0250 - val_auc: 0.9819\n",
            "Epoch 31/50\n",
            "94/94 [==============================] - 2s 21ms/step - loss: 0.0231 - auc: 0.9841 - val_loss: 0.0237 - val_auc: 0.9834\n",
            "Epoch 32/50\n",
            "94/94 [==============================] - 2s 21ms/step - loss: 0.0230 - auc: 0.9842 - val_loss: 0.0240 - val_auc: 0.9832\n",
            "Epoch 33/50\n",
            "94/94 [==============================] - 2s 21ms/step - loss: 0.0228 - auc: 0.9844 - val_loss: 0.0233 - val_auc: 0.9841\n",
            "Epoch 34/50\n",
            "94/94 [==============================] - 2s 21ms/step - loss: 0.0228 - auc: 0.9845 - val_loss: 0.0231 - val_auc: 0.9843\n",
            "Epoch 35/50\n",
            "94/94 [==============================] - 2s 20ms/step - loss: 0.0226 - auc: 0.9846 - val_loss: 0.0233 - val_auc: 0.9842\n",
            "Epoch 36/50\n",
            "94/94 [==============================] - 2s 22ms/step - loss: 0.0222 - auc: 0.9849 - val_loss: 0.0230 - val_auc: 0.9844\n",
            "Epoch 37/50\n",
            "94/94 [==============================] - 2s 21ms/step - loss: 0.0225 - auc: 0.9848 - val_loss: 0.0231 - val_auc: 0.9844\n",
            "Epoch 38/50\n",
            "94/94 [==============================] - 2s 21ms/step - loss: 0.0222 - auc: 0.9850 - val_loss: 0.0231 - val_auc: 0.9842\n",
            "Epoch 39/50\n",
            "94/94 [==============================] - 2s 20ms/step - loss: 0.0220 - auc: 0.9854 - val_loss: 0.0243 - val_auc: 0.9831\n",
            "Epoch 40/50\n",
            "94/94 [==============================] - 2s 20ms/step - loss: 0.0221 - auc: 0.9850 - val_loss: 0.0226 - val_auc: 0.9846\n",
            "Epoch 41/50\n",
            "94/94 [==============================] - 2s 21ms/step - loss: 0.0217 - auc: 0.9856 - val_loss: 0.0231 - val_auc: 0.9841\n",
            "Epoch 42/50\n",
            "94/94 [==============================] - 2s 21ms/step - loss: 0.0218 - auc: 0.9854 - val_loss: 0.0236 - val_auc: 0.9831\n",
            "Epoch 43/50\n",
            "94/94 [==============================] - 2s 21ms/step - loss: 0.0217 - auc: 0.9855 - val_loss: 0.0223 - val_auc: 0.9851\n",
            "Epoch 44/50\n",
            "94/94 [==============================] - 2s 21ms/step - loss: 0.0214 - auc: 0.9859 - val_loss: 0.0227 - val_auc: 0.9842\n",
            "Epoch 45/50\n",
            "94/94 [==============================] - 2s 21ms/step - loss: 0.0214 - auc: 0.9856 - val_loss: 0.0236 - val_auc: 0.9829\n",
            "Epoch 46/50\n",
            "94/94 [==============================] - 2s 21ms/step - loss: 0.0213 - auc: 0.9859 - val_loss: 0.0228 - val_auc: 0.9843\n",
            "Epoch 47/50\n",
            "94/94 [==============================] - 2s 21ms/step - loss: 0.0211 - auc: 0.9859 - val_loss: 0.0225 - val_auc: 0.9845\n",
            "Epoch 48/50\n",
            "94/94 [==============================] - 2s 21ms/step - loss: 0.0212 - auc: 0.9860 - val_loss: 0.0221 - val_auc: 0.9852\n",
            "Epoch 49/50\n",
            "94/94 [==============================] - 2s 21ms/step - loss: 0.0209 - auc: 0.9861 - val_loss: 0.0232 - val_auc: 0.9839\n",
            "Epoch 50/50\n",
            "94/94 [==============================] - 2s 21ms/step - loss: 0.0211 - auc: 0.9859 - val_loss: 0.0222 - val_auc: 0.9847\n"
          ],
          "name": "stdout"
        }
      ]
    },
    {
      "cell_type": "code",
      "metadata": {
        "colab": {
          "base_uri": "https://localhost:8080/"
        },
        "id": "DTQ3lP-uLF0Y",
        "outputId": "8d2a04fe-b086-4996-8538-dfc2ae5f22a7"
      },
      "source": [
        "cnn_model.summary()"
      ],
      "execution_count": null,
      "outputs": [
        {
          "output_type": "stream",
          "text": [
            "Model: \"sequential\"\n",
            "_________________________________________________________________\n",
            "Layer (type)                 Output Shape              Param #   \n",
            "=================================================================\n",
            "conv2d (Conv2D)              (None, 14, 14, 8)         40        \n",
            "_________________________________________________________________\n",
            "max_pooling2d (MaxPooling2D) (None, 14, 14, 8)         0         \n",
            "_________________________________________________________________\n",
            "zero_padding2d (ZeroPadding2 (None, 16, 16, 8)         0         \n",
            "_________________________________________________________________\n",
            "conv2d_1 (Conv2D)            (None, 8, 8, 32)          1056      \n",
            "_________________________________________________________________\n",
            "conv2d_2 (Conv2D)            (None, 4, 4, 64)          8256      \n",
            "_________________________________________________________________\n",
            "conv2d_3 (Conv2D)            (None, 2, 2, 128)         32896     \n",
            "_________________________________________________________________\n",
            "flatten (Flatten)            (None, 512)               0         \n",
            "_________________________________________________________________\n",
            "dense (Dense)                (None, 512)               262656    \n",
            "_________________________________________________________________\n",
            "dense_1 (Dense)              (None, 128)               65664     \n",
            "_________________________________________________________________\n",
            "dense_2 (Dense)              (None, 10)                1290      \n",
            "=================================================================\n",
            "Total params: 371,858\n",
            "Trainable params: 371,858\n",
            "Non-trainable params: 0\n",
            "_________________________________________________________________\n"
          ],
          "name": "stdout"
        }
      ]
    },
    {
      "cell_type": "markdown",
      "metadata": {
        "id": "AaB5FQxZrlRn"
      },
      "source": [
        "### Plotting the Losses and accuracy of validation set"
      ]
    },
    {
      "cell_type": "code",
      "metadata": {
        "colab": {
          "base_uri": "https://localhost:8080/",
          "height": 265
        },
        "id": "GIR6iKQprpFT",
        "outputId": "dc42754d-6e4a-4c67-87c4-f982b80c6e51"
      },
      "source": [
        "plt.plot(range(50), history.history['val_loss'],label = 'Validation loss' )\n",
        "plt.legend()\n",
        "plt.plot(range(50), history.history['val_auc'],label = 'Validation accuracy')\n",
        "plt.legend()\n",
        "plt.show()"
      ],
      "execution_count": null,
      "outputs": [
        {
          "output_type": "display_data",
          "data": {
            "image/png": "[encoded data removed]",
            "text/plain": [
              "<Figure size 432x288 with 1 Axes>"
            ]
          },
          "metadata": {
            "tags": [],
            "needs_background": "light"
          }
        }
      ]
    },
    {
      "cell_type": "markdown",
      "metadata": {
        "id": "jY1uN1vkt0TI"
      },
      "source": [
        "#**D: CNN (Softmax with categorical cross entropy)**"
      ]
    },
    {
      "cell_type": "code",
      "metadata": {
        "colab": {
          "base_uri": "https://localhost:8080/"
        },
        "id": "Dmm1MuR_uXni",
        "outputId": "f7a1f34a-9688-47ee-c25d-4df9b516740a"
      },
      "source": [
        "#defining the model\n",
        "cnn_model2 = Sequential([\n",
        "                        Conv2D(filters = 8, strides = (2,2), kernel_size = 2, activation = 'relu'),\n",
        "                        #(14x14x8)\n",
        "                         MaxPool2D(pool_size = 2, strides = (1,1), padding = 'same'),\n",
        "                        #(14x14x8)\n",
        "                        ZeroPadding2D(padding = (1,1)),\n",
        "                        Conv2D(filters = 32, kernel_size = 2, strides = (2,2), activation = 'relu'),\n",
        "                        #(8x8x32)\n",
        "                        Conv2D(filters = 64, kernel_size = 2, strides = (2,2), activation = 'relu'),\n",
        "                        #(4x4x64)\n",
        "                        Conv2D(filters = 128, kernel_size = 2, strides = (2,2), activation = 'relu'),\n",
        "                        #(2x2x128)\n",
        "                        Flatten(),\n",
        "                        Dense(512, activation = 'relu'),\n",
        "                        Dense(128, activation = 'relu'),\n",
        "                        Dense(10, activation = 'softmax')\n",
        "                      ])\n",
        "\n",
        "#compiling the model\n",
        "cnn_model2.compile(\n",
        "                  loss = 'categorical_crossentropy',\n",
        "                  optimizer = Adam(learning_rate = 0.01),\n",
        "                  metrics = ['AUC']\n",
        "                 )\n",
        "\n",
        "#training the model\n",
        "history2 = cnn_model2.fit(\n",
        "              x_train1, y_train1, batch_size = 512, epochs = 50, verbose = 1,\n",
        "              validation_data = (val_train, val_test), shuffle = True\n",
        "             )"
      ],
      "execution_count": null,
      "outputs": [
        {
          "output_type": "stream",
          "text": [
            "Epoch 1/50\n",
            "94/94 [==============================] - 3s 25ms/step - loss: 1.6227 - auc: 0.9484 - val_loss: 0.5055 - val_auc: 0.9834\n",
            "Epoch 2/50\n",
            "94/94 [==============================] - 2s 21ms/step - loss: 0.4335 - auc: 0.9879 - val_loss: 0.4415 - val_auc: 0.9875\n",
            "Epoch 3/50\n",
            "94/94 [==============================] - 2s 21ms/step - loss: 0.3923 - auc: 0.9898 - val_loss: 0.4022 - val_auc: 0.9894\n",
            "Epoch 4/50\n",
            "94/94 [==============================] - 2s 21ms/step - loss: 0.3553 - auc: 0.9914 - val_loss: 0.3783 - val_auc: 0.9903\n",
            "Epoch 5/50\n",
            "94/94 [==============================] - 2s 21ms/step - loss: 0.3355 - auc: 0.9922 - val_loss: 0.3592 - val_auc: 0.9913\n",
            "Epoch 6/50\n",
            "94/94 [==============================] - 2s 21ms/step - loss: 0.3239 - auc: 0.9927 - val_loss: 0.3687 - val_auc: 0.9907\n",
            "Epoch 7/50\n",
            "94/94 [==============================] - 2s 21ms/step - loss: 0.3081 - auc: 0.9935 - val_loss: 0.3561 - val_auc: 0.9910\n",
            "Epoch 8/50\n",
            "94/94 [==============================] - 2s 21ms/step - loss: 0.2948 - auc: 0.9939 - val_loss: 0.3557 - val_auc: 0.9910\n",
            "Epoch 9/50\n",
            "94/94 [==============================] - 2s 21ms/step - loss: 0.2913 - auc: 0.9939 - val_loss: 0.3844 - val_auc: 0.9896\n",
            "Epoch 10/50\n",
            "94/94 [==============================] - 2s 21ms/step - loss: 0.2804 - auc: 0.9944 - val_loss: 0.3625 - val_auc: 0.9903\n",
            "Epoch 11/50\n",
            "94/94 [==============================] - 2s 21ms/step - loss: 0.2741 - auc: 0.9945 - val_loss: 0.3710 - val_auc: 0.9903\n",
            "Epoch 12/50\n",
            "94/94 [==============================] - 2s 21ms/step - loss: 0.2629 - auc: 0.9951 - val_loss: 0.3687 - val_auc: 0.9901\n",
            "Epoch 13/50\n",
            "94/94 [==============================] - 2s 21ms/step - loss: 0.2516 - auc: 0.9953 - val_loss: 0.3971 - val_auc: 0.9885\n",
            "Epoch 14/50\n",
            "94/94 [==============================] - 2s 21ms/step - loss: 0.2628 - auc: 0.9950 - val_loss: 0.3835 - val_auc: 0.9894\n",
            "Epoch 15/50\n",
            "94/94 [==============================] - 2s 21ms/step - loss: 0.2546 - auc: 0.9952 - val_loss: 0.4130 - val_auc: 0.9868\n",
            "Epoch 16/50\n",
            "94/94 [==============================] - 2s 21ms/step - loss: 0.2535 - auc: 0.9952 - val_loss: 0.3876 - val_auc: 0.9885\n",
            "Epoch 17/50\n",
            "94/94 [==============================] - 2s 21ms/step - loss: 0.2459 - auc: 0.9954 - val_loss: 0.3776 - val_auc: 0.9892\n",
            "Epoch 18/50\n",
            "94/94 [==============================] - 2s 21ms/step - loss: 0.2382 - auc: 0.9958 - val_loss: 0.3909 - val_auc: 0.9886\n",
            "Epoch 19/50\n",
            "94/94 [==============================] - 2s 21ms/step - loss: 0.2327 - auc: 0.9960 - val_loss: 0.3804 - val_auc: 0.9896\n",
            "Epoch 20/50\n",
            "94/94 [==============================] - 2s 21ms/step - loss: 0.2373 - auc: 0.9957 - val_loss: 0.3817 - val_auc: 0.9886\n",
            "Epoch 21/50\n",
            "94/94 [==============================] - 2s 21ms/step - loss: 0.2271 - auc: 0.9960 - val_loss: 0.3878 - val_auc: 0.9886\n",
            "Epoch 22/50\n",
            "94/94 [==============================] - 2s 21ms/step - loss: 0.2273 - auc: 0.9960 - val_loss: 0.3643 - val_auc: 0.9899\n",
            "Epoch 23/50\n",
            "94/94 [==============================] - 2s 21ms/step - loss: 0.2333 - auc: 0.9957 - val_loss: 0.3972 - val_auc: 0.9881\n",
            "Epoch 24/50\n",
            "94/94 [==============================] - 2s 21ms/step - loss: 0.2238 - auc: 0.9962 - val_loss: 0.3789 - val_auc: 0.9889\n",
            "Epoch 25/50\n",
            "94/94 [==============================] - 2s 21ms/step - loss: 0.2279 - auc: 0.9960 - val_loss: 0.3926 - val_auc: 0.9882\n",
            "Epoch 26/50\n",
            "94/94 [==============================] - 2s 21ms/step - loss: 0.2197 - auc: 0.9962 - val_loss: 0.3899 - val_auc: 0.9879\n",
            "Epoch 27/50\n",
            "94/94 [==============================] - 2s 21ms/step - loss: 0.2307 - auc: 0.9958 - val_loss: 0.4274 - val_auc: 0.9864\n",
            "Epoch 28/50\n",
            "94/94 [==============================] - 2s 21ms/step - loss: 0.2267 - auc: 0.9959 - val_loss: 0.3947 - val_auc: 0.9884\n",
            "Epoch 29/50\n",
            "94/94 [==============================] - 2s 21ms/step - loss: 0.2240 - auc: 0.9958 - val_loss: 0.4026 - val_auc: 0.9877\n",
            "Epoch 30/50\n",
            "94/94 [==============================] - 2s 21ms/step - loss: 0.2323 - auc: 0.9957 - val_loss: 0.4126 - val_auc: 0.9871\n",
            "Epoch 31/50\n",
            "94/94 [==============================] - 2s 21ms/step - loss: 0.2456 - auc: 0.9952 - val_loss: 0.4045 - val_auc: 0.9877\n",
            "Epoch 32/50\n",
            "94/94 [==============================] - 2s 21ms/step - loss: 0.2232 - auc: 0.9959 - val_loss: 0.4165 - val_auc: 0.9868\n",
            "Epoch 33/50\n",
            "94/94 [==============================] - 2s 21ms/step - loss: 0.2147 - auc: 0.9963 - val_loss: 0.4462 - val_auc: 0.9852\n",
            "Epoch 34/50\n",
            "94/94 [==============================] - 2s 21ms/step - loss: 0.2178 - auc: 0.9962 - val_loss: 0.4240 - val_auc: 0.9864\n",
            "Epoch 35/50\n",
            "94/94 [==============================] - 2s 21ms/step - loss: 0.2172 - auc: 0.9961 - val_loss: 0.4629 - val_auc: 0.9850\n",
            "Epoch 36/50\n",
            "94/94 [==============================] - 2s 21ms/step - loss: 0.2289 - auc: 0.9957 - val_loss: 0.4391 - val_auc: 0.9850\n",
            "Epoch 37/50\n",
            "94/94 [==============================] - 2s 21ms/step - loss: 0.2186 - auc: 0.9960 - val_loss: 0.4356 - val_auc: 0.9860\n",
            "Epoch 38/50\n",
            "94/94 [==============================] - 2s 21ms/step - loss: 0.2321 - auc: 0.9954 - val_loss: 0.4276 - val_auc: 0.9865\n",
            "Epoch 39/50\n",
            "94/94 [==============================] - 2s 21ms/step - loss: 0.2194 - auc: 0.9960 - val_loss: 0.4246 - val_auc: 0.9869\n",
            "Epoch 40/50\n",
            "94/94 [==============================] - 2s 21ms/step - loss: 0.2236 - auc: 0.9959 - val_loss: 0.4436 - val_auc: 0.9848\n",
            "Epoch 41/50\n",
            "94/94 [==============================] - 2s 21ms/step - loss: 0.2039 - auc: 0.9963 - val_loss: 0.4574 - val_auc: 0.9849\n",
            "Epoch 42/50\n",
            "94/94 [==============================] - 2s 21ms/step - loss: 0.1991 - auc: 0.9965 - val_loss: 0.4606 - val_auc: 0.9849\n",
            "Epoch 43/50\n",
            "94/94 [==============================] - 2s 21ms/step - loss: 0.2060 - auc: 0.9964 - val_loss: 0.4754 - val_auc: 0.9841\n",
            "Epoch 44/50\n",
            "94/94 [==============================] - 2s 21ms/step - loss: 0.2056 - auc: 0.9964 - val_loss: 0.4607 - val_auc: 0.9843\n",
            "Epoch 45/50\n",
            "94/94 [==============================] - 2s 21ms/step - loss: 0.2313 - auc: 0.9956 - val_loss: 0.4779 - val_auc: 0.9837\n",
            "Epoch 46/50\n",
            "94/94 [==============================] - 2s 21ms/step - loss: 0.2123 - auc: 0.9960 - val_loss: 0.4519 - val_auc: 0.9858\n",
            "Epoch 47/50\n",
            "94/94 [==============================] - 2s 21ms/step - loss: 0.2221 - auc: 0.9959 - val_loss: 0.4606 - val_auc: 0.9848\n",
            "Epoch 48/50\n",
            "94/94 [==============================] - 2s 21ms/step - loss: 0.2241 - auc: 0.9957 - val_loss: 0.4970 - val_auc: 0.9834\n",
            "Epoch 49/50\n",
            "94/94 [==============================] - 2s 21ms/step - loss: 0.2339 - auc: 0.9954 - val_loss: 0.4775 - val_auc: 0.9842\n",
            "Epoch 50/50\n",
            "94/94 [==============================] - 2s 21ms/step - loss: 0.2140 - auc: 0.9961 - val_loss: 0.4522 - val_auc: 0.9860\n"
          ],
          "name": "stdout"
        }
      ]
    },
    {
      "cell_type": "code",
      "metadata": {
        "colab": {
          "base_uri": "https://localhost:8080/"
        },
        "id": "Vuf964Ye_fNc",
        "outputId": "130e2ad8-8e9d-4dc2-bca3-355787d43e4e"
      },
      "source": [
        "cnn_model2.summary()"
      ],
      "execution_count": null,
      "outputs": [
        {
          "output_type": "stream",
          "text": [
            "Model: \"sequential_1\"\n",
            "_________________________________________________________________\n",
            "Layer (type)                 Output Shape              Param #   \n",
            "=================================================================\n",
            "conv2d_4 (Conv2D)            (None, 14, 14, 8)         40        \n",
            "_________________________________________________________________\n",
            "max_pooling2d_1 (MaxPooling2 (None, 14, 14, 8)         0         \n",
            "_________________________________________________________________\n",
            "zero_padding2d_1 (ZeroPaddin (None, 16, 16, 8)         0         \n",
            "_________________________________________________________________\n",
            "conv2d_5 (Conv2D)            (None, 8, 8, 32)          1056      \n",
            "_________________________________________________________________\n",
            "conv2d_6 (Conv2D)            (None, 4, 4, 64)          8256      \n",
            "_________________________________________________________________\n",
            "conv2d_7 (Conv2D)            (None, 2, 2, 128)         32896     \n",
            "_________________________________________________________________\n",
            "flatten_1 (Flatten)          (None, 512)               0         \n",
            "_________________________________________________________________\n",
            "dense_3 (Dense)              (None, 512)               262656    \n",
            "_________________________________________________________________\n",
            "dense_4 (Dense)              (None, 128)               65664     \n",
            "_________________________________________________________________\n",
            "dense_5 (Dense)              (None, 10)                1290      \n",
            "=================================================================\n",
            "Total params: 371,858\n",
            "Trainable params: 371,858\n",
            "Non-trainable params: 0\n",
            "_________________________________________________________________\n"
          ],
          "name": "stdout"
        }
      ]
    },
    {
      "cell_type": "code",
      "metadata": {
        "colab": {
          "base_uri": "https://localhost:8080/",
          "height": 265
        },
        "id": "JH9FzS3zviDr",
        "outputId": "98531dc5-a9fd-4ac4-8adb-d17d39bb3db1"
      },
      "source": [
        "#plotting the validation loss and accuracy\n",
        "\n",
        "plt.plot(range(50), history2.history['val_loss'],label = 'Validation loss' )\n",
        "plt.legend()\n",
        "plt.plot(range(50), history2.history['val_auc'],label = 'Validation accuracy')\n",
        "plt.legend()\n",
        "plt.show()"
      ],
      "execution_count": null,
      "outputs": [
        {
          "output_type": "display_data",
          "data": {
            "image/png": "[encoded data removed]",
            "text/plain": [
              "<Figure size 432x288 with 1 Axes>"
            ]
          },
          "metadata": {
            "tags": [],
            "needs_background": "light"
          }
        }
      ]
    },
    {
      "cell_type": "markdown",
      "metadata": {
        "id": "bzRZhc5wydAn"
      },
      "source": [
        "# **E: Comparison**"
      ]
    },
    {
      "cell_type": "markdown",
      "metadata": {
        "id": "2Ds_-isw2gSK"
      },
      "source": [
        "###Confusion matrix of model with MSE"
      ]
    },
    {
      "cell_type": "code",
      "metadata": {
        "colab": {
          "base_uri": "https://localhost:8080/",
          "height": 463
        },
        "id": "jdznqvcLy8Ke",
        "outputId": "77c19d39-cd07-43c5-818d-d0e6298466f5"
      },
      "source": [
        "y_pred1 = cnn_model.predict(x_test)\n",
        "\n",
        "cm = confusion_matrix(y_test, y_pred1.argmax(axis= 1))\n",
        "print('Confusion matrix: \\n',cm)\n",
        "\n",
        "plt.imshow(cm, cmap=plt.cm.Blues)\n",
        "plt.xlabel(\"Predicted labels\")\n",
        "plt.ylabel(\"True labels\")\n",
        "plt.xticks([], [])\n",
        "plt.yticks([], [])\n",
        "plt.title('Confusion matrix ')\n",
        "plt.colorbar()\n",
        "plt.show()"
      ],
      "execution_count": null,
      "outputs": [
        {
          "output_type": "stream",
          "text": [
            "Confusion matrix: \n",
            " [[783   6  14  43  16   5 113   1  18   1]\n",
            " [  8 934   4  38   7   1   6   0   2   0]\n",
            " [ 18   5 640  13 216   2  91   0  15   0]\n",
            " [ 31  32  11 840  45   1  38   0   2   0]\n",
            " [  2   1  45  30 860   0  55   0   7   0]\n",
            " [  0   0   0   1   0 926   0  46   5  22]\n",
            " [129   3  77  40 158   0 571   0  22   0]\n",
            " [  0   0   0   0   0  35   0 937   0  28]\n",
            " [  4   0   8   9   6   4  14   8 947   0]\n",
            " [  0   0   0   0   0  14   0  55   1 930]]\n"
          ],
          "name": "stdout"
        },
        {
          "output_type": "display_data",
          "data": {
            "image/png": "[encoded data removed]",
            "text/plain": [
              "<Figure size 432x288 with 2 Axes>"
            ]
          },
          "metadata": {
            "tags": [],
            "needs_background": "light"
          }
        }
      ]
    },
    {
      "cell_type": "markdown",
      "metadata": {
        "id": "VtLtz0oj2mYD"
      },
      "source": [
        "###Confusion matrix of model with CCE"
      ]
    },
    {
      "cell_type": "code",
      "metadata": {
        "colab": {
          "base_uri": "https://localhost:8080/",
          "height": 463
        },
        "id": "BWskFDaC0E-I",
        "outputId": "99fc290d-1065-4955-d735-46fd43006519"
      },
      "source": [
        "y_pred2 = cnn_model2.predict(x_test)\n",
        "\n",
        "cm = confusion_matrix(y_test, y_pred2.argmax(axis= 1))\n",
        "print('Confusion matrix: \\n',cm)\n",
        "\n",
        "plt.imshow(cm, cmap=plt.cm.Blues)\n",
        "plt.xlabel(\"Predicted labels\")\n",
        "plt.ylabel(\"True labels\")\n",
        "plt.xticks([], [])\n",
        "plt.yticks([], [])\n",
        "plt.title('Confusion matrix ')\n",
        "plt.colorbar()\n",
        "plt.show()"
      ],
      "execution_count": null,
      "outputs": [
        {
          "output_type": "stream",
          "text": [
            "Confusion matrix: \n",
            " [[849   4  14  34   1   0  92   0   6   0]\n",
            " [  1 970   0  20   3   0   5   0   1   0]\n",
            " [ 15   0 815  15  60   0  95   0   0   0]\n",
            " [ 26   8  11 932  14   0   8   0   1   0]\n",
            " [  2   0 125  55 759   0  57   0   2   0]\n",
            " [  0   0   2   0   0 936   1  33   7  21]\n",
            " [145   2 101  37  84   0 619   0  12   0]\n",
            " [  0   0   0   0   0  15   0 966   0  19]\n",
            " [  3   1   3   5   4   4   8   2 969   1]\n",
            " [  0   0   0   0   0   3   2  58   1 936]]\n"
          ],
          "name": "stdout"
        },
        {
          "output_type": "display_data",
          "data": {
            "image/png": "[encoded data removed]",
            "text/plain": [
              "<Figure size 432x288 with 2 Axes>"
            ]
          },
          "metadata": {
            "tags": [],
            "needs_background": "light"
          }
        }
      ]
    },
    {
      "cell_type": "markdown",
      "metadata": {
        "id": "bmR3oM5s36Md"
      },
      "source": [
        "#**F: ROC Curve for model in D**"
      ]
    },
    {
      "cell_type": "code",
      "metadata": {
        "colab": {
          "base_uri": "https://localhost:8080/",
          "height": 295
        },
        "id": "KAgACp_P4DiA",
        "outputId": "b046c843-811b-4ad5-9573-f5e9ab3d28e5"
      },
      "source": [
        "from itertools import cycle\n",
        "\n",
        "# Plot linewidth.\n",
        "lw = 2\n",
        "\n",
        "# Compute ROC curve and ROC area for each class\n",
        "n_classes = 10\n",
        "fpr = dict()\n",
        "tpr = dict()\n",
        "roc_auc = dict()\n",
        "for i in range(n_classes):\n",
        "    fpr[i], tpr[i], _ = roc_curve(y_test1[:, i], y_pred2[:, i])\n",
        "    roc_auc[i] = auc(fpr[i], tpr[i])\n",
        "\n",
        "\n",
        "colors = cycle(['aqua', 'darkorange', 'cornflowerblue',\"purple\", \"lightgreen\", \"lightblue\", \"orange\", 'yellow', 'red', 'black'])\n",
        "for i, color in zip(range(n_classes), colors):\n",
        "    plt.plot(fpr[i], tpr[i], color=color, lw=lw,\n",
        "             label='ROC curve of class {0} (area = {1:0.2f})'\n",
        "             ''.format(i, roc_auc[i]))\n",
        "\n",
        "plt.plot([0, 1], [0, 1],'--k' ,lw=lw)\n",
        "plt.xlabel('False Positive Rate')\n",
        "plt.ylabel('True Positive Rate')\n",
        "plt.title('Receiver operating characteristic of multi-class')\n",
        "plt.legend(loc=\"lower right\")\n",
        "plt.show()\n"
      ],
      "execution_count": null,
      "outputs": [
        {
          "output_type": "display_data",
          "data": {
            "image/png": "[encoded data removed]",
            "text/plain": [
              "<Figure size 432x288 with 1 Axes>"
            ]
          },
          "metadata": {
            "tags": [],
            "needs_background": "light"
          }
        }
      ]
    },
    {
      "cell_type": "code",
      "metadata": {
        "id": "yiHC8U8gFgRf"
      },
      "source": [
        " "
      ],
      "execution_count": null,
      "outputs": []
    }
  ]
}